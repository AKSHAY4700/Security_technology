{
 "cells": [
  {
   "cell_type": "code",
   "execution_count": null,
   "id": "2d71756f",
   "metadata": {},
   "outputs": [
    {
     "name": "stdout",
     "output_type": "stream",
     "text": [
      "Hi! My name is Bob and I am the security system robot.\n"
     ]
    }
   ],
   "source": [
    "known_users=['Aa','Bb','Cc','Dd','Ee','Ff','Gg','Hh','Ii','Jj']\n",
    "\n",
    "\n",
    "\n",
    "while True:\n",
    "    print(\"Hi! My name is Bob and I am the security system robot.\")\n",
    "    name=input(\"What is your name?:\")\n",
    "    capitalized_name=name.capitalize()\n",
    "\n",
    "    if capitalized_name in known_users:\n",
    "        print(\"Hello \",capitalized_name)\n",
    "        print(known_users)\n",
    "        remove_item=input(\"Would you like to be removed from the system (yes/no)?:\")\n",
    "        if remove_item=='yes':\n",
    "            known_users.remove(capitalized_name)\n",
    "            print(known_users)\n",
    "            \n",
    "        else:\n",
    "            print(\"No problem, I did not want you to leave anyway.\")\n",
    "                \n",
    "\n",
    "    else:\n",
    "        print(\"I think I have not seen you on the list\")\n",
    "        add_item=input(\"Would you like to be added to the system (yes/no)?:\")\n",
    "        if add_item=='yes':\n",
    "            known_users.append(capitalized_name)\n",
    "            print(\"You are added on the system!\")\n",
    "            print(known_users)\n",
    "            \n",
    "        else:\n",
    "            print(\"No worries. You will not be on the list.\")\n",
    "            "
   ]
  },
  {
   "cell_type": "code",
   "execution_count": null,
   "id": "d2ba25ff",
   "metadata": {},
   "outputs": [],
   "source": []
  }
 ],
 "metadata": {
  "kernelspec": {
   "display_name": "Python 3 (ipykernel)",
   "language": "python",
   "name": "python3"
  },
  "language_info": {
   "codemirror_mode": {
    "name": "ipython",
    "version": 3
   },
   "file_extension": ".py",
   "mimetype": "text/x-python",
   "name": "python",
   "nbconvert_exporter": "python",
   "pygments_lexer": "ipython3",
   "version": "3.10.9"
  }
 },
 "nbformat": 4,
 "nbformat_minor": 5
}
